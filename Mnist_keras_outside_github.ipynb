{
 "cells": [
  {
   "cell_type": "code",
   "execution_count": 1,
   "metadata": {},
   "outputs": [
    {
     "name": "stderr",
     "output_type": "stream",
     "text": [
      "F:\\pranjal\\Python_anaconda\\envs\\py35\\lib\\importlib\\_bootstrap.py:222: RuntimeWarning: numpy.dtype size changed, may indicate binary incompatibility. Expected 96, got 88\n",
      "  return f(*args, **kwds)\n",
      "F:\\pranjal\\Python_anaconda\\envs\\py35\\lib\\importlib\\_bootstrap.py:222: RuntimeWarning: numpy.dtype size changed, may indicate binary incompatibility. Expected 96, got 88\n",
      "  return f(*args, **kwds)\n"
     ]
    }
   ],
   "source": [
    "import pandas as pd\n",
    "import matplotlib.pyplot as plt\n",
    "import seaborn as sns\n",
    "import numpy as np\n",
    "import tensorflow as tf"
   ]
  },
  {
   "cell_type": "code",
   "execution_count": 2,
   "metadata": {},
   "outputs": [],
   "source": [
    "mnist =  pd.read_csv(r\"C:\\Users\\Pranjal Mishra\\Documents\\MNIST_Train.csv\")"
   ]
  },
  {
   "cell_type": "code",
   "execution_count": 3,
   "metadata": {},
   "outputs": [
    {
     "name": "stdout",
     "output_type": "stream",
     "text": [
      "   label  pixel0  pixel1  pixel2  pixel3  pixel4  pixel5  pixel6  pixel7  \\\n",
      "0      1       0       0       0       0       0       0       0       0   \n",
      "1      0       0       0       0       0       0       0       0       0   \n",
      "2      1       0       0       0       0       0       0       0       0   \n",
      "3      4       0       0       0       0       0       0       0       0   \n",
      "4      0       0       0       0       0       0       0       0       0   \n",
      "\n",
      "   pixel8    ...     pixel774  pixel775  pixel776  pixel777  pixel778  \\\n",
      "0       0    ...            0         0         0         0         0   \n",
      "1       0    ...            0         0         0         0         0   \n",
      "2       0    ...            0         0         0         0         0   \n",
      "3       0    ...            0         0         0         0         0   \n",
      "4       0    ...            0         0         0         0         0   \n",
      "\n",
      "   pixel779  pixel780  pixel781  pixel782  pixel783  \n",
      "0         0         0         0         0         0  \n",
      "1         0         0         0         0         0  \n",
      "2         0         0         0         0         0  \n",
      "3         0         0         0         0         0  \n",
      "4         0         0         0         0         0  \n",
      "\n",
      "[5 rows x 785 columns]\n"
     ]
    },
    {
     "data": {
      "text/plain": [
       "(42000, 785)"
      ]
     },
     "execution_count": 3,
     "metadata": {},
     "output_type": "execute_result"
    }
   ],
   "source": [
    "print(mnist.head()) ### 1st column label is my Y variable \n",
    "#mnist.iloc[4:10,]\n",
    "mnist.shape"
   ]
  },
  {
   "cell_type": "code",
   "execution_count": 5,
   "metadata": {},
   "outputs": [],
   "source": [
    "### below few lines are just to show case more about the mnist data its not actuall part of the code\n",
    "\n",
    "sen_col = mnist.iloc[1]  ## selecting the 1st row and all column"
   ]
  },
  {
   "cell_type": "code",
   "execution_count": 6,
   "metadata": {},
   "outputs": [],
   "source": [
    "sen_col =  sen_col.iloc[ 1:786 ,]  ### droping the 1st column as it was non numeric\n",
    "\n"
   ]
  },
  {
   "cell_type": "code",
   "execution_count": 7,
   "metadata": {},
   "outputs": [
    {
     "data": {
      "text/plain": [
       "784"
      ]
     },
     "execution_count": 7,
     "metadata": {},
     "output_type": "execute_result"
    }
   ],
   "source": [
    "len(sen_col )   ## get the length as 784"
   ]
  },
  {
   "cell_type": "code",
   "execution_count": 8,
   "metadata": {},
   "outputs": [],
   "source": [
    "abc  = np.array(sen_col ) ## convert into array so that we can reshape"
   ]
  },
  {
   "cell_type": "code",
   "execution_count": 9,
   "metadata": {},
   "outputs": [],
   "source": [
    "abc = abc.reshape(28,28)  ### 28 * 28  = 784"
   ]
  },
  {
   "cell_type": "code",
   "execution_count": 10,
   "metadata": {},
   "outputs": [
    {
     "data": {
      "text/plain": [
       "<matplotlib.image.AxesImage at 0x27006687c18>"
      ]
     },
     "execution_count": 10,
     "metadata": {},
     "output_type": "execute_result"
    },
    {
     "data": {
      "image/png": "[encoded data removed]",
      "text/plain": [
       "<Figure size 432x288 with 1 Axes>"
      ]
     },
     "metadata": {},
     "output_type": "display_data"
    }
   ],
   "source": [
    "plt.imshow(abc)"
   ]
  },
  {
   "cell_type": "code",
   "execution_count": 10,
   "metadata": {},
   "outputs": [
    {
     "data": {
      "text/plain": [
       "<matplotlib.image.AxesImage at 0x2681624d390>"
      ]
     },
     "execution_count": 10,
     "metadata": {},
     "output_type": "execute_result"
    },
    {
     "data": {
      "image/png": "[encoded data removed]",
      "text/plain": [
       "<Figure size 432x288 with 1 Axes>"
      ]
     },
     "metadata": {},
     "output_type": "display_data"
    }
   ],
   "source": [
    "plt.imshow(abc ,  cmap =  'gist_gray') ### if you want to see in the grey scale "
   ]
  },
  {
   "cell_type": "code",
   "execution_count": 11,
   "metadata": {},
   "outputs": [],
   "source": [
    "### now creating the model"
   ]
  },
  {
   "cell_type": "code",
   "execution_count": 12,
   "metadata": {},
   "outputs": [
    {
     "data": {
      "text/plain": [
       "(42000, 785)"
      ]
     },
     "execution_count": 12,
     "metadata": {},
     "output_type": "execute_result"
    }
   ],
   "source": [
    "\n",
    "\n",
    "mnist =  pd.read_csv(r\"C:\\Users\\Pranjal Mishra\\Documents\\MNIST_Train.csv\")\n",
    "mnist.shape"
   ]
  },
  {
   "cell_type": "code",
   "execution_count": 13,
   "metadata": {},
   "outputs": [],
   "source": [
    "mnist_x = mnist.iloc[ : , 1:786]\n",
    "\n",
    "mnist_y = mnist.iloc[:,0]"
   ]
  },
  {
   "cell_type": "code",
   "execution_count": 14,
   "metadata": {},
   "outputs": [
    {
     "name": "stdout",
     "output_type": "stream",
     "text": [
      "(33600, 784)\n",
      "(8400, 784)\n",
      "-----\n",
      "(33600,)\n",
      "(8400,)\n"
     ]
    }
   ],
   "source": [
    "from sklearn.model_selection import train_test_split\n",
    "\n",
    "mnist_x_train , mnist_x_test , mnist_y_train , mnist_y_test =  train_test_split(mnist_x , mnist_y , \n",
    "                                                                                test_size = .2 , random_state = 101)\n",
    "\n",
    "print(mnist_x_train.shape)\n",
    "print(mnist_x_test.shape)\n",
    "print(\"-----\")\n",
    "print(mnist_y_train.shape)\n",
    "print(mnist_y_test.shape)"
   ]
  },
  {
   "cell_type": "code",
   "execution_count": 21,
   "metadata": {},
   "outputs": [],
   "source": [
    "mnist_x_train  = np.array(mnist_x_train)\n",
    " \n",
    "### important as we convert 784 in 28,28 cell\n",
    "for i in range(len(mnist_x_train)):\n",
    "    mnist_x_train[i,].reshape(28,28)\n",
    "    "
   ]
  },
  {
   "cell_type": "code",
   "execution_count": 22,
   "metadata": {},
   "outputs": [],
   "source": [
    "mnist_x_test  = np.array(mnist_x_test)\n",
    "\n",
    "for i in range(len(mnist_x_test)):\n",
    "    mnist_x_test[i,].reshape(28,28)\n"
   ]
  },
  {
   "cell_type": "code",
   "execution_count": 23,
   "metadata": {},
   "outputs": [],
   "source": [
    "mnist_x_train = tf.keras.utils.normalize(mnist_x_train)  ### to normalize the data, if we do not normalize then the accuracy is very less\n",
    "mnist_x_test =  tf.keras.utils.normalize(mnist_x_test )  ### to normalize the data, if we do not normalize then the accuracy is very less\n"
   ]
  },
  {
   "cell_type": "code",
   "execution_count": 36,
   "metadata": {},
   "outputs": [],
   "source": [
    "model = tf.keras.models.Sequential()     ## neural network is initiliazed\n",
    "#model.add(tf.keras.layers.Flatten())    #  its not mandatory as we have not used CNN\n",
    "model.add(tf.keras.layers.Dense(128 ,  activation = tf.nn.relu))  ## 1st layer\n",
    "model.add(tf.keras.layers.Dense(128 ,  activation = tf.nn.relu))  ## 2nd layer\n",
    "model.add(tf.keras.layers.Dense(128 ,  activation = tf.nn.relu))  ## 3rd layer  \n",
    "model.add(tf.keras.layers.Dense(10 ,  activation = tf.nn.softmax))  ## last layer so softmax is must as we have more than categories\n",
    "model.compile(optimizer = 'adam'  , loss = 'sparse_categorical_crossentropy' , metric = ['accuracy'])\n",
    "\n",
    "## Sequential is used to initiliaze are neural network. Neural network are also sequence of layers\n",
    "#The Adam optimization algorithm is an extension to stochastic gradient descent that has recently seen broader adoption\n",
    "#for deep learning applications in computer vision and natural language processing.\n",
    "# dense indicates your fully connected layer\n",
    "# 128 is number of neutrons in each layer \n",
    "#  metric = ['accuracy'] , performance metric\n",
    "# model.compile  ...complies the model\n",
    "## in flattening we convert all the pooled features that we created through convolutional and max poling into large vector...\n",
    "#      which becomes the I/P for the fully connected layer\n",
    "\n",
    "### sparse_categorical_crossentropy is a loss function, used to measure the dissimilarity between... \n",
    "#  ..the distribution of observed class labels and the predicted probabilities of class membership."
   ]
  },
  {
   "cell_type": "code",
   "execution_count": 37,
   "metadata": {},
   "outputs": [
    {
     "name": "stdout",
     "output_type": "stream",
     "text": [
      "Epoch 1/3\n",
      "33600/33600 [==============================] - 6s 191us/step - loss: 0.3915\n",
      "Epoch 2/3\n",
      "33600/33600 [==============================] - 6s 172us/step - loss: 0.1536\n",
      "Epoch 3/3\n",
      "33600/33600 [==============================] - 6s 169us/step - loss: 0.1050\n"
     ]
    },
    {
     "data": {
      "text/plain": [
       "<tensorflow.python.keras.callbacks.History at 0x26817ee4588>"
      ]
     },
     "execution_count": 37,
     "metadata": {},
     "output_type": "execute_result"
    }
   ],
   "source": [
    "mnist_y_train  = np.array(mnist_y_train)  ### very imp, other wise we get error  while model fit.\n",
    "\n",
    "\n",
    "model.fit(mnist_x_train  , mnist_y_train , epochs = 3)"
   ]
  },
  {
   "cell_type": "code",
   "execution_count": 38,
   "metadata": {},
   "outputs": [
    {
     "data": {
      "text/plain": [
       "array([[754,   0,   5,   2,   0,   1,   0,   0,   0,   2],\n",
       "       [  0, 939,   6,   4,   0,   1,   2,   2,   3,   2],\n",
       "       [  1,   1, 808,   4,   1,   0,   0,   6,   2,   0],\n",
       "       [  0,   2,  10, 828,   0,  14,   0,   2,  13,  15],\n",
       "       [  0,   1,   9,   1, 806,   1,   2,  13,   4,  25],\n",
       "       [  7,   1,   1,   4,   0, 705,   4,   2,   5,   1],\n",
       "       [ 16,   0,   6,   2,   4,   6, 813,   0,   3,   1],\n",
       "       [  2,   1,   4,   3,   1,   0,   0, 842,   2,  15],\n",
       "       [  5,   3,  10,   5,   1,   3,   3,   0, 785,   6],\n",
       "       [  4,   0,   0,   6,   5,   2,   0,   6,   3, 810]], dtype=int64)"
      ]
     },
     "execution_count": 38,
     "metadata": {},
     "output_type": "execute_result"
    }
   ],
   "source": [
    "from sklearn.metrics import confusion_matrix , classification_report\n",
    "\n",
    "pred1  = model.predict_classes(mnist_x_test)\n",
    "\n",
    "tab1  = confusion_matrix(pred1 , mnist_y_test)\n",
    "pred1  = model.predict_classes(mnist_x_test)\n",
    "tab1\n",
    "\n"
   ]
  },
  {
   "cell_type": "code",
   "execution_count": 35,
   "metadata": {},
   "outputs": [
    {
     "data": {
      "text/plain": [
       "0.9653571428571428"
      ]
     },
     "execution_count": 35,
     "metadata": {},
     "output_type": "execute_result"
    }
   ],
   "source": [
    "tab1.diagonal().sum()  / tab1.sum()"
   ]
  },
  {
   "cell_type": "code",
   "execution_count": 28,
   "metadata": {},
   "outputs": [
    {
     "data": {
      "text/plain": [
       "<matplotlib.image.AxesImage at 0x1cc1bf862b0>"
      ]
     },
     "execution_count": 28,
     "metadata": {},
     "output_type": "execute_result"
    },
    {
     "data": {
      "image/png": "[encoded data removed]",
      "text/plain": [
       "<Figure size 432x288 with 1 Axes>"
      ]
     },
     "metadata": {},
     "output_type": "display_data"
    }
   ],
   "source": [
    "#### to read the image \n",
    "\n",
    "import matplotlib.image as img\n",
    "pranjal =  img.imread(r\"C:\\Users\\Pranjal Mishra\\Desktop\\05.jpg\")\n",
    "plt.imshow(pranjal)   ##3 image will be shown\n"
   ]
  },
  {
   "cell_type": "code",
   "execution_count": 31,
   "metadata": {},
   "outputs": [
    {
     "data": {
      "text/plain": [
       "array([[[255, 255, 255],\n",
       "        [255, 255, 255],\n",
       "        [255, 255, 255],\n",
       "        ...,\n",
       "        [255, 255, 255],\n",
       "        [255, 255, 255],\n",
       "        [255, 255, 255]],\n",
       "\n",
       "       [[255, 255, 255],\n",
       "        [255, 255, 255],\n",
       "        [255, 255, 255],\n",
       "        ...,\n",
       "        [255, 255, 255],\n",
       "        [255, 255, 255],\n",
       "        [255, 255, 255]],\n",
       "\n",
       "       [[255, 255, 255],\n",
       "        [255, 255, 255],\n",
       "        [255, 255, 255],\n",
       "        ...,\n",
       "        [255, 255, 255],\n",
       "        [255, 255, 255],\n",
       "        [255, 255, 255]],\n",
       "\n",
       "       ...,\n",
       "\n",
       "       [[ 21,  18,  27],\n",
       "        [ 24,  21,  30],\n",
       "        [ 24,  21,  30],\n",
       "        ...,\n",
       "        [ 29,  28,  34],\n",
       "        [ 29,  26,  35],\n",
       "        [ 30,  27,  36]],\n",
       "\n",
       "       [[ 22,  19,  26],\n",
       "        [ 23,  20,  27],\n",
       "        [ 24,  21,  28],\n",
       "        ...,\n",
       "        [ 30,  29,  35],\n",
       "        [ 31,  30,  38],\n",
       "        [ 28,  27,  35]],\n",
       "\n",
       "       [[ 20,  17,  24],\n",
       "        [ 22,  19,  26],\n",
       "        [ 25,  22,  31],\n",
       "        ...,\n",
       "        [ 30,  29,  35],\n",
       "        [ 33,  30,  39],\n",
       "        [ 30,  27,  38]]], dtype=uint8)"
      ]
     },
     "execution_count": 31,
     "metadata": {},
     "output_type": "execute_result"
    }
   ],
   "source": [
    "pranjal  ## shows the number for the pic cells, like the way in mnist"
   ]
  }
 ],
 "metadata": {
  "kernelspec": {
   "display_name": "Python 3",
   "language": "python",
   "name": "python3"
  },
  "language_info": {
   "codemirror_mode": {
    "name": "ipython",
    "version": 3
   },
   "file_extension": ".py",
   "mimetype": "text/x-python",
   "name": "python",
   "nbconvert_exporter": "python",
   "pygments_lexer": "ipython3",
   "version": "3.5.5"
  }
 },
 "nbformat": 4,
 "nbformat_minor": 2
}
